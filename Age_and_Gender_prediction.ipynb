{
 "cells": [
  {
   "cell_type": "markdown",
   "metadata": {},
   "source": [
    "#   Age and Gender Prediction "
   ]
  },
  {
   "cell_type": "code",
   "execution_count": 2,
   "metadata": {},
   "outputs": [
    {
     "name": "stdout",
     "output_type": "stream",
     "text": [
      "Collecting pafy\n",
      "  Downloading https://files.pythonhosted.org/packages/74/69/829919eeadff695338f98fa12bb99e45490761a2010c8d688d88b6df194a/pafy-0.5.5-py2.py3-none-any.whl\n",
      "Installing collected packages: pafy\n",
      "Successfully installed pafy-0.5.5\n"
     ]
    }
   ],
   "source": [
    "! pip install pafy"
   ]
  },
  {
   "cell_type": "markdown",
   "metadata": {},
   "source": [
    "# Download Pretrained  Network Configuration and weight of of Age and Gender and store it in variable."
   ]
  },
  {
   "cell_type": "code",
   "execution_count": 15,
   "metadata": {},
   "outputs": [],
   "source": [
    "\n",
    "ageProto=\"C:/Users/admin/Downloads/Gender-and-Age-Detection-master/Gender-and-Age-Detection-master/age_deploy.prototxt\"\n",
    "ageModel=\"C:/Users/admin/Downloads/Gender-and-Age-Detection-master/Gender-and-Age-Detection-master/age_net.caffemodel\"\n",
    "genderProto=\"C:/Users/admin/Downloads/Gender-and-Age-Detection-master/Gender-and-Age-Detection-master/gender_deploy.prototxt\"\n",
    "genderModel=\"C:/Users/admin/Downloads/Gender-and-Age-Detection-master/Gender-and-Age-Detection-master/gender_net.caffemodel\""
   ]
  },
  {
   "cell_type": "code",
   "execution_count": 29,
   "metadata": {},
   "outputs": [],
   "source": [
    "import cv2\n",
    "import numpy as np\n",
    "#import pafy"
   ]
  },
  {
   "cell_type": "markdown",
   "metadata": {},
   "source": [
    "## Store Possible value of gender age and Model_mean value "
   ]
  },
  {
   "cell_type": "code",
   "execution_count": 36,
   "metadata": {},
   "outputs": [],
   "source": [
    "MODEL_MEAN_VALUES = (78.4263377603, 87.7689143744, 114.895847746)\n",
    "age_list = ['(0, 2)', '(4, 6)', '(8, 12)', '(15, 20)',\n",
    "            '(25, 32)', '(38, 43)', '(48, 53)', '(60, 100)']\n",
    "gender_list = ['Male', 'Female']"
   ]
  },
  {
   "cell_type": "markdown",
   "metadata": {},
   "source": [
    "## Calling Pretrained model"
   ]
  },
  {
   "cell_type": "code",
   "execution_count": 37,
   "metadata": {},
   "outputs": [],
   "source": [
    "def load_caffe_models():\n",
    " \n",
    "    age_net = cv2.dnn.readNetFromCaffe(ageProto, ageModel\n",
    "                                      )\n",
    "    gender_net = cv2.dnn.readNetFromCaffe(genderProto, genderModel)\n",
    "    return(age_net, gender_net)"
   ]
  },
  {
   "cell_type": "code",
   "execution_count": null,
   "metadata": {},
   "outputs": [],
   "source": [
    "img=cv2.imread(\"C:/Users/admin/Downloads/women.jpg\")\n",
    "cv2.imshow('image',img)\n",
    "cv2.waitKey(0)\n",
    "cv2.destroyAllWindows()"
   ]
  },
  {
   "cell_type": "markdown",
   "metadata": {},
   "source": [
    "## USing HAARCASCADE Classifier to Detect the face of a image"
   ]
  },
  {
   "cell_type": "code",
   "execution_count": 32,
   "metadata": {},
   "outputs": [
    {
     "name": "stdout",
     "output_type": "stream",
     "text": [
      "Found 1 faces\n"
     ]
    }
   ],
   "source": [
    "face_cascade = cv2.CascadeClassifier('C:/Users/admin/Downloads/haarcascade_frontalface_default.xml')\n",
    "gray = cv2.cvtColor(img, cv2.COLOR_BGR2GRAY)\n",
    "faces = face_cascade.detectMultiScale(gray, 1.1, 5)\n",
    "if(len(faces)>0):\n",
    "    \n",
    "    print(\"Found {} faces\".format(str(len(faces))))\n",
    "for (x, y, w, h )in faces:\n",
    "    \n",
    "    cv2.rectangle(img, (x, y), (x+w, y+h), (255, 255, 0), 2)\n",
    "#Get Face \n",
    "    face_img = img[y:y+h, h:h+w].copy()"
   ]
  },
  {
   "cell_type": "code",
   "execution_count": 38,
   "metadata": {},
   "outputs": [],
   "source": [
    "age_net, gender_net = load_caffe_models()"
   ]
  },
  {
   "cell_type": "markdown",
   "metadata": {},
   "source": [
    "## Passing the Input To Model and Reding Output for gender"
   ]
  },
  {
   "cell_type": "code",
   "execution_count": 39,
   "metadata": {},
   "outputs": [
    {
     "name": "stdout",
     "output_type": "stream",
     "text": [
      "Gender : Female\n"
     ]
    }
   ],
   "source": [
    "blob = cv2.dnn.blobFromImage(face_img, 1, (227, 227), MODEL_MEAN_VALUES, swapRB=False)\n",
    "#Predict Gender\n",
    "gender_net.setInput(blob)\n",
    "gender_preds = gender_net.forward()\n",
    "gender = gender_list[gender_preds[0].argmax()]\n",
    "print(\"Gender : \" + gender)"
   ]
  },
  {
   "cell_type": "markdown",
   "metadata": {},
   "source": [
    "## Passing the Input To Model and Reding Output for age"
   ]
  },
  {
   "cell_type": "code",
   "execution_count": 40,
   "metadata": {},
   "outputs": [
    {
     "name": "stdout",
     "output_type": "stream",
     "text": [
      "Age Range: (38, 43)\n"
     ]
    }
   ],
   "source": [
    "age_net.setInput(blob)\n",
    "age_preds = age_net.forward()\n",
    "age = age_list[age_preds[0].argmax()]\n",
    "print(\"Age Range: \" + age)"
   ]
  }
 ],
 "metadata": {
  "kernelspec": {
   "display_name": "Python 3",
   "language": "python",
   "name": "python3"
  },
  "language_info": {
   "codemirror_mode": {
    "name": "ipython",
    "version": 3
   },
   "file_extension": ".py",
   "mimetype": "text/x-python",
   "name": "python",
   "nbconvert_exporter": "python",
   "pygments_lexer": "ipython3",
   "version": "3.7.1"
  }
 },
 "nbformat": 4,
 "nbformat_minor": 2
}

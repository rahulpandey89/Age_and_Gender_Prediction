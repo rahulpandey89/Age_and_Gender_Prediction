{
  "nbformat": 4,
  "nbformat_minor": 0,
  "metadata": {
    "colab": {
      "provenance": [],
      "machine_shape": "hm",
      "gpuType": "A100",
      "authorship_tag": "ABX9TyND/r7n5EoGY4HvhWeWDUHa",
      "include_colab_link": true
    },
    "kernelspec": {
      "name": "python3",
      "display_name": "Python 3"
    },
    "language_info": {
      "name": "python"
    },
    "accelerator": "GPU",
    "widgets": {
      "application/vnd.jupyter.widget-state+json": {
        "9792fc3c2b54431e98de18419c2a256f": {
          "model_module": "@jupyter-widgets/controls",
          "model_name": "HBoxModel",
          "model_module_version": "1.5.0",
          "state": {
            "_dom_classes": [],
            "_model_module": "@jupyter-widgets/controls",
            "_model_module_version": "1.5.0",
            "_model_name": "HBoxModel",
            "_view_count": null,
            "_view_module": "@jupyter-widgets/controls",
            "_view_module_version": "1.5.0",
            "_view_name": "HBoxView",
            "box_style": "",
            "children": [
              "IPY_MODEL_38fec71dbb3b41519421abfdecd4d335",
              "IPY_MODEL_d93b66b9b3384fdf8c758f3d7292f999",
              "IPY_MODEL_637068fd81e14cccace6ebcdd79ae75a"
            ],
            "layout": "IPY_MODEL_2c3041f3247540209afe7f9f8619086b"
          }
        },
        "38fec71dbb3b41519421abfdecd4d335": {
          "model_module": "@jupyter-widgets/controls",
          "model_name": "HTMLModel",
          "model_module_version": "1.5.0",
          "state": {
            "_dom_classes": [],
            "_model_module": "@jupyter-widgets/controls",
            "_model_module_version": "1.5.0",
            "_model_name": "HTMLModel",
            "_view_count": null,
            "_view_module": "@jupyter-widgets/controls",
            "_view_module_version": "1.5.0",
            "_view_name": "HTMLView",
            "description": "",
            "description_tooltip": null,
            "layout": "IPY_MODEL_d7fe0ef572204928ad600a976b2a0b9d",
            "placeholder": "​",
            "style": "IPY_MODEL_63e5c2b567c44099bc422b07114397f7",
            "value": "Loading checkpoint shards: 100%"
          }
        },
        "d93b66b9b3384fdf8c758f3d7292f999": {
          "model_module": "@jupyter-widgets/controls",
          "model_name": "FloatProgressModel",
          "model_module_version": "1.5.0",
          "state": {
            "_dom_classes": [],
            "_model_module": "@jupyter-widgets/controls",
            "_model_module_version": "1.5.0",
            "_model_name": "FloatProgressModel",
            "_view_count": null,
            "_view_module": "@jupyter-widgets/controls",
            "_view_module_version": "1.5.0",
            "_view_name": "ProgressView",
            "bar_style": "success",
            "description": "",
            "description_tooltip": null,
            "layout": "IPY_MODEL_9aa38efed99e42f396d09a239c185d01",
            "max": 2,
            "min": 0,
            "orientation": "horizontal",
            "style": "IPY_MODEL_59ebd1205297472c82966899c651eb2d",
            "value": 2
          }
        },
        "637068fd81e14cccace6ebcdd79ae75a": {
          "model_module": "@jupyter-widgets/controls",
          "model_name": "HTMLModel",
          "model_module_version": "1.5.0",
          "state": {
            "_dom_classes": [],
            "_model_module": "@jupyter-widgets/controls",
            "_model_module_version": "1.5.0",
            "_model_name": "HTMLModel",
            "_view_count": null,
            "_view_module": "@jupyter-widgets/controls",
            "_view_module_version": "1.5.0",
            "_view_name": "HTMLView",
            "description": "",
            "description_tooltip": null,
            "layout": "IPY_MODEL_0f5255718bee4ed6a4bad1093925fa71",
            "placeholder": "​",
            "style": "IPY_MODEL_c9d1f5db10354d9389eea72d1d14891a",
            "value": " 2/2 [00:03&lt;00:00,  1.58s/it]"
          }
        },
        "2c3041f3247540209afe7f9f8619086b": {
          "model_module": "@jupyter-widgets/base",
          "model_name": "LayoutModel",
          "model_module_version": "1.2.0",
          "state": {
            "_model_module": "@jupyter-widgets/base",
            "_model_module_version": "1.2.0",
            "_model_name": "LayoutModel",
            "_view_count": null,
            "_view_module": "@jupyter-widgets/base",
            "_view_module_version": "1.2.0",
            "_view_name": "LayoutView",
            "align_content": null,
            "align_items": null,
            "align_self": null,
            "border": null,
            "bottom": null,
            "display": null,
            "flex": null,
            "flex_flow": null,
            "grid_area": null,
            "grid_auto_columns": null,
            "grid_auto_flow": null,
            "grid_auto_rows": null,
            "grid_column": null,
            "grid_gap": null,
            "grid_row": null,
            "grid_template_areas": null,
            "grid_template_columns": null,
            "grid_template_rows": null,
            "height": null,
            "justify_content": null,
            "justify_items": null,
            "left": null,
            "margin": null,
            "max_height": null,
            "max_width": null,
            "min_height": null,
            "min_width": null,
            "object_fit": null,
            "object_position": null,
            "order": null,
            "overflow": null,
            "overflow_x": null,
            "overflow_y": null,
            "padding": null,
            "right": null,
            "top": null,
            "visibility": null,
            "width": null
          }
        },
        "d7fe0ef572204928ad600a976b2a0b9d": {
          "model_module": "@jupyter-widgets/base",
          "model_name": "LayoutModel",
          "model_module_version": "1.2.0",
          "state": {
            "_model_module": "@jupyter-widgets/base",
            "_model_module_version": "1.2.0",
            "_model_name": "LayoutModel",
            "_view_count": null,
            "_view_module": "@jupyter-widgets/base",
            "_view_module_version": "1.2.0",
            "_view_name": "LayoutView",
            "align_content": null,
            "align_items": null,
            "align_self": null,
            "border": null,
            "bottom": null,
            "display": null,
            "flex": null,
            "flex_flow": null,
            "grid_area": null,
            "grid_auto_columns": null,
            "grid_auto_flow": null,
            "grid_auto_rows": null,
            "grid_column": null,
            "grid_gap": null,
            "grid_row": null,
            "grid_template_areas": null,
            "grid_template_columns": null,
            "grid_template_rows": null,
            "height": null,
            "justify_content": null,
            "justify_items": null,
            "left": null,
            "margin": null,
            "max_height": null,
            "max_width": null,
            "min_height": null,
            "min_width": null,
            "object_fit": null,
            "object_position": null,
            "order": null,
            "overflow": null,
            "overflow_x": null,
            "overflow_y": null,
            "padding": null,
            "right": null,
            "top": null,
            "visibility": null,
            "width": null
          }
        },
        "63e5c2b567c44099bc422b07114397f7": {
          "model_module": "@jupyter-widgets/controls",
          "model_name": "DescriptionStyleModel",
          "model_module_version": "1.5.0",
          "state": {
            "_model_module": "@jupyter-widgets/controls",
            "_model_module_version": "1.5.0",
            "_model_name": "DescriptionStyleModel",
            "_view_count": null,
            "_view_module": "@jupyter-widgets/base",
            "_view_module_version": "1.2.0",
            "_view_name": "StyleView",
            "description_width": ""
          }
        },
        "9aa38efed99e42f396d09a239c185d01": {
          "model_module": "@jupyter-widgets/base",
          "model_name": "LayoutModel",
          "model_module_version": "1.2.0",
          "state": {
            "_model_module": "@jupyter-widgets/base",
            "_model_module_version": "1.2.0",
            "_model_name": "LayoutModel",
            "_view_count": null,
            "_view_module": "@jupyter-widgets/base",
            "_view_module_version": "1.2.0",
            "_view_name": "LayoutView",
            "align_content": null,
            "align_items": null,
            "align_self": null,
            "border": null,
            "bottom": null,
            "display": null,
            "flex": null,
            "flex_flow": null,
            "grid_area": null,
            "grid_auto_columns": null,
            "grid_auto_flow": null,
            "grid_auto_rows": null,
            "grid_column": null,
            "grid_gap": null,
            "grid_row": null,
            "grid_template_areas": null,
            "grid_template_columns": null,
            "grid_template_rows": null,
            "height": null,
            "justify_content": null,
            "justify_items": null,
            "left": null,
            "margin": null,
            "max_height": null,
            "max_width": null,
            "min_height": null,
            "min_width": null,
            "object_fit": null,
            "object_position": null,
            "order": null,
            "overflow": null,
            "overflow_x": null,
            "overflow_y": null,
            "padding": null,
            "right": null,
            "top": null,
            "visibility": null,
            "width": null
          }
        },
        "59ebd1205297472c82966899c651eb2d": {
          "model_module": "@jupyter-widgets/controls",
          "model_name": "ProgressStyleModel",
          "model_module_version": "1.5.0",
          "state": {
            "_model_module": "@jupyter-widgets/controls",
            "_model_module_version": "1.5.0",
            "_model_name": "ProgressStyleModel",
            "_view_count": null,
            "_view_module": "@jupyter-widgets/base",
            "_view_module_version": "1.2.0",
            "_view_name": "StyleView",
            "bar_color": null,
            "description_width": ""
          }
        },
        "0f5255718bee4ed6a4bad1093925fa71": {
          "model_module": "@jupyter-widgets/base",
          "model_name": "LayoutModel",
          "model_module_version": "1.2.0",
          "state": {
            "_model_module": "@jupyter-widgets/base",
            "_model_module_version": "1.2.0",
            "_model_name": "LayoutModel",
            "_view_count": null,
            "_view_module": "@jupyter-widgets/base",
            "_view_module_version": "1.2.0",
            "_view_name": "LayoutView",
            "align_content": null,
            "align_items": null,
            "align_self": null,
            "border": null,
            "bottom": null,
            "display": null,
            "flex": null,
            "flex_flow": null,
            "grid_area": null,
            "grid_auto_columns": null,
            "grid_auto_flow": null,
            "grid_auto_rows": null,
            "grid_column": null,
            "grid_gap": null,
            "grid_row": null,
            "grid_template_areas": null,
            "grid_template_columns": null,
            "grid_template_rows": null,
            "height": null,
            "justify_content": null,
            "justify_items": null,
            "left": null,
            "margin": null,
            "max_height": null,
            "max_width": null,
            "min_height": null,
            "min_width": null,
            "object_fit": null,
            "object_position": null,
            "order": null,
            "overflow": null,
            "overflow_x": null,
            "overflow_y": null,
            "padding": null,
            "right": null,
            "top": null,
            "visibility": null,
            "width": null
          }
        },
        "c9d1f5db10354d9389eea72d1d14891a": {
          "model_module": "@jupyter-widgets/controls",
          "model_name": "DescriptionStyleModel",
          "model_module_version": "1.5.0",
          "state": {
            "_model_module": "@jupyter-widgets/controls",
            "_model_module_version": "1.5.0",
            "_model_name": "DescriptionStyleModel",
            "_view_count": null,
            "_view_module": "@jupyter-widgets/base",
            "_view_module_version": "1.2.0",
            "_view_name": "StyleView",
            "description_width": ""
          }
        }
      }
    }
  },
  "cells": [
    {
      "cell_type": "markdown",
      "metadata": {
        "id": "view-in-github",
        "colab_type": "text"
      },
      "source": [
        "<a href=\"https://colab.research.google.com/github/rahulpandey89/Age_and_Gender_Prediction/blob/master/OCR_extractor_using_phi_3.ipynb\" target=\"_parent\"><img src=\"https://colab.research.google.com/assets/colab-badge.svg\" alt=\"Open In Colab\"/></a>"
      ]
    },
    {
      "cell_type": "code",
      "execution_count": 3,
      "metadata": {
        "colab": {
          "base_uri": "https://localhost:8080/",
          "height": 698,
          "referenced_widgets": [
            "9792fc3c2b54431e98de18419c2a256f",
            "38fec71dbb3b41519421abfdecd4d335",
            "d93b66b9b3384fdf8c758f3d7292f999",
            "637068fd81e14cccace6ebcdd79ae75a",
            "2c3041f3247540209afe7f9f8619086b",
            "d7fe0ef572204928ad600a976b2a0b9d",
            "63e5c2b567c44099bc422b07114397f7",
            "9aa38efed99e42f396d09a239c185d01",
            "59ebd1205297472c82966899c651eb2d",
            "0f5255718bee4ed6a4bad1093925fa71",
            "c9d1f5db10354d9389eea72d1d14891a"
          ]
        },
        "id": "d5eCI5bzoDWL",
        "outputId": "b126959b-51db-49f8-fe1d-846628a6a785"
      },
      "outputs": [
        {
          "output_type": "stream",
          "name": "stdout",
          "text": [
            "Loading model...\n"
          ]
        },
        {
          "output_type": "display_data",
          "data": {
            "text/plain": [
              "Loading checkpoint shards:   0%|          | 0/2 [00:00<?, ?it/s]"
            ],
            "application/vnd.jupyter.widget-view+json": {
              "version_major": 2,
              "version_minor": 0,
              "model_id": "9792fc3c2b54431e98de18419c2a256f"
            }
          },
          "metadata": {}
        },
        {
          "output_type": "stream",
          "name": "stdout",
          "text": [
            "Loading processor...\n",
            "Generating response...\n"
          ]
        },
        {
          "output_type": "stream",
          "name": "stderr",
          "text": [
            "/usr/local/lib/python3.10/dist-packages/transformers/generation/configuration_utils.py:617: UserWarning: `do_sample` is set to `False`. However, `temperature` is set to `0.7` -- this flag is only used in sample-based generation modes. You should set `do_sample=True` or unset `temperature`.\n",
            "  warnings.warn(\n",
            "/root/.cache/huggingface/modules/transformers_modules/microsoft/Phi-3-vision-128k-instruct/c45209e90a4c4f7d16b2e9d48503c7f3e83623ed/image_embedding_phi3_v.py:197: UserWarning: Phi-3-V modifies `input_ids` in-place and the tokens indicating images will be removed after model forward. If your workflow requires multiple forward passes on the same `input_ids`, please make a copy of `input_ids` before passing it to the model.\n",
            "  warnings.warn(\n"
          ]
        },
        {
          "output_type": "stream",
          "name": "stdout",
          "text": [
            "Response: Certainly! Below is the markdown format of the table from the image:\n",
            "\n",
            "```markdown\n",
            "| Customer Number | 23785-54-9674458 |\n",
            "|-----------------|------------------|\n",
            "| Branch Name     | <Branch Name>    |\n",
            "| Statement Date  | mm/dd/yyyy       |\n",
            "| Payment Due Date| mm/dd/yyyy       |\n",
            "| Credit Limit    | 390,000.00       |\n",
            "| Total Amount Due| 3,898.57         |\n",
            "\n",
            "## SUMMARY\n",
            "\n",
            "| Card Type | Previous Balance | Payment / Credits and Rebates | Purchases and Advances | Installment Due | Finance Charges and Other Fees | Late Payment Charges | Amount Due |\n",
            "|-----------|------------------|-------------------------------|------------------------|-----------------|--------------------------------|----------------------|------------|\n",
            "| Visa Gold | 7,126.14         | 7,126.14                      | 3,898.57               | 0.00            | 0.00                           | 0.00                 | 3,898.57   |\n",
            "\n",
            "## TRANSACTION\n",
            "\n",
            "| Date       | Description                  | Amount |\n",
            "|------------|------------------------------|--------|\n",
            "| mm/dd/yyyy | Petron - C5 Station          | 223.26 |\n",
            "| mm/dd/yyyy | South Star Drug              | 313.39 |\n",
            "| mm/dd/yyyy | Rosewood Condominium         | 582.96 |\n",
            "| mm/dd/yyyy | Grab                         | 125.00 |\n",
            "| mm/dd/yyyy | Amazon                       | 215.00 |\n",
            "| mm/dd/yyyy | Alba International           | 656.86 |\n",
            "| mm/dd/yyyy | Adobe Sales                  | 246.00 |\n",
            "| mm/dd/yyyy | St. Luke Medical Center      | 571.10 |\n",
            "| mm/dd\n"
          ]
        }
      ],
      "source": [
        "from PIL import Image\n",
        "import requests\n",
        "from transformers import AutoModelForCausalLM, AutoProcessor\n",
        "\n",
        "class Phi3VisionModel:\n",
        "    def __init__(self, model_id=\"microsoft/Phi-3-vision-128k-instruct\", device=\"cuda\"):\n",
        "        \"\"\"\n",
        "        Initialize the Phi3VisionModel with the specified model ID and device.\n",
        "\n",
        "        Args:\n",
        "            model_id (str): The identifier of the pre-trained model from Hugging Face's model hub.\n",
        "            device (str): The device to load the model on (\"cuda\" for GPU or \"cpu\").\n",
        "        \"\"\"\n",
        "        self.model_id = model_id\n",
        "        self.device = device\n",
        "        self.model = self.load_model()  # Load the model during initialization\n",
        "        self.processor = self.load_processor()  # Load the processor during initialization\n",
        "\n",
        "    def load_model(self):\n",
        "        \"\"\"\n",
        "        Load the pre-trained language model with causal language modeling capabilities.\n",
        "\n",
        "        Returns:\n",
        "            model (AutoModelForCausalLM): The loaded model.\n",
        "        \"\"\"\n",
        "        print(\"Loading model...\")\n",
        "        # Load the model with automatic device mapping and data type adjustment\n",
        "        return AutoModelForCausalLM.from_pretrained(\n",
        "            self.model_id,\n",
        "            device_map=\"auto\",  # Automatically map model to the appropriate device(s)\n",
        "            torch_dtype=\"auto\",  # Use an appropriate torch data type based on the device\n",
        "            trust_remote_code=True,  # Allow execution of custom code for loading the model\n",
        "            _attn_implementation='flash_attention_2'  # Use optimized attention implementation\n",
        "        ).to(self.device)  # Move the model to the specified device\n",
        "\n",
        "    def load_processor(self):\n",
        "        \"\"\"\n",
        "        Load the processor associated with the model for processing inputs and outputs.\n",
        "\n",
        "        Returns:\n",
        "            processor (AutoProcessor): The loaded processor for handling text and images.\n",
        "        \"\"\"\n",
        "        print(\"Loading processor...\")\n",
        "        # Load the processor with trust_remote_code=True to handle any custom processing logic\n",
        "        return AutoProcessor.from_pretrained(self.model_id, trust_remote_code=True)\n",
        "\n",
        "    def predict(self, image_url, prompt):\n",
        "        \"\"\"\n",
        "        Perform a prediction using the model given an image and a prompt.\n",
        "\n",
        "        Args:\n",
        "            image_url (str): The URL of the image to be processed.\n",
        "            prompt (str): The textual prompt that guides the model's generation.\n",
        "\n",
        "        Returns:\n",
        "            response (str): The generated response from the model.\n",
        "        \"\"\"\n",
        "        # Load the image from the provided URL\n",
        "        #image = Image.open(requests.get(image_url, stream=True).raw)\n",
        "        image = Image.open(image_url)\n",
        "\n",
        "        # Format the input prompt template for the model\n",
        "        prompt_template = f\"<|user|>\\n<|image_1|>\\n{prompt}<|end|>\\n<|assistant|>\\n\"\n",
        "\n",
        "        # Process the inputs, converting the prompt and image into tensor format\n",
        "        inputs = self.processor(prompt_template, [image], return_tensors=\"pt\").to(self.device)\n",
        "\n",
        "        # Set generation arguments for the model's response generation\n",
        "        generation_args = {\n",
        "            \"max_new_tokens\": 500,  # Maximum number of tokens to generate\n",
        "            \"temperature\": 0.7,     # Sampling temperature for diversity in generation\n",
        "            \"do_sample\": False      # Disable sampling for deterministic output\n",
        "        }\n",
        "        print(\"Generating response...\")\n",
        "        # Generate the output IDs using the model, skipping the input tokens\n",
        "        output_ids = self.model.generate(**inputs, **generation_args)\n",
        "        output_ids = output_ids[:, inputs['input_ids'].shape[1]:]  # Ignore the input prompt in the output\n",
        "\n",
        "        # Decode the generated output tokens to obtain the response text\n",
        "        response = self.processor.batch_decode(output_ids, skip_special_tokens=True)[0]\n",
        "        return response\n",
        "\n",
        "# Initialize the model\n",
        "phi_model = Phi3VisionModel()\n",
        "\n",
        "# Example predictiohttps://example.com/sample_image.pngn\n",
        "from PIL import Image\n",
        "import requests\n",
        "\n",
        "image_url = \"https://templates.invoicehome.com/invoice-template-us-dexter-750px.png\"\n",
        "image_url=\"/content/bank.jpeg\"\n",
        "#image = Image.open(requests.get(url, stream=True).raw)\n",
        "#image\n",
        "#\"/content/0064O00000kBSiIQAW-00P4O00001Jk4v2UAB-__deposit_form__voided_check0_0_3151.jpg\"  # URL of the sample image\n",
        "prompt = \"you are a bank information extractor .Provide OCR for all the text in given image in markdown format.\"  # Prompt for model guidance\n",
        "response = phi_model.predict(image_url, prompt)  # Get the response from the model\n",
        "\n",
        "print(\"Response:\", response)  # Print the generated response"
      ]
    },
    {
      "cell_type": "code",
      "source": [
        " !pip install flash_attn"
      ],
      "metadata": {
        "colab": {
          "base_uri": "https://localhost:8080/"
        },
        "id": "e4CVy8RuppCx",
        "outputId": "c3517e62-026a-4dd1-f55c-b4a5e85be044"
      },
      "execution_count": 2,
      "outputs": [
        {
          "output_type": "stream",
          "name": "stdout",
          "text": [
            "Collecting flash_attn\n",
            "  Downloading flash_attn-2.7.0.post2.tar.gz (2.7 MB)\n",
            "\u001b[2K     \u001b[90m━━━━━━━━━━━━━━━━━━━━━━━━━━━━━━━━━━━━━━━━\u001b[0m \u001b[32m2.7/2.7 MB\u001b[0m \u001b[31m13.4 MB/s\u001b[0m eta \u001b[36m0:00:00\u001b[0m\n",
            "\u001b[?25h  Preparing metadata (setup.py) ... \u001b[?25l\u001b[?25hdone\n",
            "Requirement already satisfied: torch in /usr/local/lib/python3.10/dist-packages (from flash_attn) (2.5.1+cu121)\n",
            "Requirement already satisfied: einops in /usr/local/lib/python3.10/dist-packages (from flash_attn) (0.8.0)\n",
            "Requirement already satisfied: filelock in /usr/local/lib/python3.10/dist-packages (from torch->flash_attn) (3.16.1)\n",
            "Requirement already satisfied: typing-extensions>=4.8.0 in /usr/local/lib/python3.10/dist-packages (from torch->flash_attn) (4.12.2)\n",
            "Requirement already satisfied: networkx in /usr/local/lib/python3.10/dist-packages (from torch->flash_attn) (3.4.2)\n",
            "Requirement already satisfied: jinja2 in /usr/local/lib/python3.10/dist-packages (from torch->flash_attn) (3.1.4)\n",
            "Requirement already satisfied: fsspec in /usr/local/lib/python3.10/dist-packages (from torch->flash_attn) (2024.10.0)\n",
            "Requirement already satisfied: sympy==1.13.1 in /usr/local/lib/python3.10/dist-packages (from torch->flash_attn) (1.13.1)\n",
            "Requirement already satisfied: mpmath<1.4,>=1.1.0 in /usr/local/lib/python3.10/dist-packages (from sympy==1.13.1->torch->flash_attn) (1.3.0)\n",
            "Requirement already satisfied: MarkupSafe>=2.0 in /usr/local/lib/python3.10/dist-packages (from jinja2->torch->flash_attn) (3.0.2)\n",
            "Building wheels for collected packages: flash_attn\n",
            "  Building wheel for flash_attn (setup.py) ... \u001b[?25l\u001b[?25hdone\n",
            "  Created wheel for flash_attn: filename=flash_attn-2.7.0.post2-cp310-cp310-linux_x86_64.whl size=183291101 sha256=16a849d51b95cf8e47a6e6cd36826e9ffbbc068a8546e7e3501a598bd70905a6\n",
            "  Stored in directory: /root/.cache/pip/wheels/bf/e3/ed/5e845387d52f2debd1bafb847bf3d774d3f0a3c8e31b1dc948\n",
            "Successfully built flash_attn\n",
            "Installing collected packages: flash_attn\n",
            "Successfully installed flash_attn-2.7.0.post2\n"
          ]
        }
      ]
    },
    {
      "cell_type": "code",
      "source": [
        "!pip install git+https://github.com/huggingface/transformers"
      ],
      "metadata": {
        "colab": {
          "base_uri": "https://localhost:8080/",
          "height": 711
        },
        "id": "SoJSUiuwoSTP",
        "outputId": "5b71418d-2972-40bd-8ed5-d8ac2fb1b55c"
      },
      "execution_count": 3,
      "outputs": [
        {
          "output_type": "stream",
          "name": "stdout",
          "text": [
            "Collecting git+https://github.com/huggingface/transformers\n",
            "  Cloning https://github.com/huggingface/transformers to /tmp/pip-req-build-1h8bfjr7\n",
            "  Running command git clone --filter=blob:none --quiet https://github.com/huggingface/transformers /tmp/pip-req-build-1h8bfjr7\n",
            "  Resolved https://github.com/huggingface/transformers to commit 19dabe96362803fb0a9ae7073d03533966598b17\n",
            "  Installing build dependencies ... \u001b[?25l\u001b[?25hdone\n",
            "  Getting requirements to build wheel ... \u001b[?25l\u001b[?25hdone\n",
            "  Preparing metadata (pyproject.toml) ... \u001b[?25l\u001b[?25hdone\n",
            "Requirement already satisfied: filelock in /usr/local/lib/python3.10/dist-packages (from transformers==4.47.0.dev0) (3.16.1)\n",
            "Requirement already satisfied: huggingface-hub<1.0,>=0.24.0 in /usr/local/lib/python3.10/dist-packages (from transformers==4.47.0.dev0) (0.26.2)\n",
            "Requirement already satisfied: numpy>=1.17 in /usr/local/lib/python3.10/dist-packages (from transformers==4.47.0.dev0) (1.26.4)\n",
            "Requirement already satisfied: packaging>=20.0 in /usr/local/lib/python3.10/dist-packages (from transformers==4.47.0.dev0) (24.2)\n",
            "Requirement already satisfied: pyyaml>=5.1 in /usr/local/lib/python3.10/dist-packages (from transformers==4.47.0.dev0) (6.0.2)\n",
            "Requirement already satisfied: regex!=2019.12.17 in /usr/local/lib/python3.10/dist-packages (from transformers==4.47.0.dev0) (2024.9.11)\n",
            "Requirement already satisfied: requests in /usr/local/lib/python3.10/dist-packages (from transformers==4.47.0.dev0) (2.32.3)\n",
            "Requirement already satisfied: tokenizers<0.21,>=0.20 in /usr/local/lib/python3.10/dist-packages (from transformers==4.47.0.dev0) (0.20.3)\n",
            "Requirement already satisfied: safetensors>=0.4.1 in /usr/local/lib/python3.10/dist-packages (from transformers==4.47.0.dev0) (0.4.5)\n",
            "Requirement already satisfied: tqdm>=4.27 in /usr/local/lib/python3.10/dist-packages (from transformers==4.47.0.dev0) (4.66.6)\n",
            "Requirement already satisfied: fsspec>=2023.5.0 in /usr/local/lib/python3.10/dist-packages (from huggingface-hub<1.0,>=0.24.0->transformers==4.47.0.dev0) (2024.10.0)\n",
            "Requirement already satisfied: typing-extensions>=3.7.4.3 in /usr/local/lib/python3.10/dist-packages (from huggingface-hub<1.0,>=0.24.0->transformers==4.47.0.dev0) (4.12.2)\n",
            "Requirement already satisfied: charset-normalizer<4,>=2 in /usr/local/lib/python3.10/dist-packages (from requests->transformers==4.47.0.dev0) (3.4.0)\n",
            "Requirement already satisfied: idna<4,>=2.5 in /usr/local/lib/python3.10/dist-packages (from requests->transformers==4.47.0.dev0) (3.10)\n",
            "Requirement already satisfied: urllib3<3,>=1.21.1 in /usr/local/lib/python3.10/dist-packages (from requests->transformers==4.47.0.dev0) (2.2.3)\n",
            "Requirement already satisfied: certifi>=2017.4.17 in /usr/local/lib/python3.10/dist-packages (from requests->transformers==4.47.0.dev0) (2024.8.30)\n",
            "Building wheels for collected packages: transformers\n",
            "  Building wheel for transformers (pyproject.toml) ... \u001b[?25l\u001b[?25hdone\n",
            "  Created wheel for transformers: filename=transformers-4.47.0.dev0-py3-none-any.whl size=10106394 sha256=dc976884f3b3fc3580f8ff09458ddf4f1684ee908f7b4e7f2bd7df89ad47e514\n",
            "  Stored in directory: /tmp/pip-ephem-wheel-cache-q0m20pd7/wheels/c0/14/d6/6c9a5582d2ac191ec0a483be151a4495fe1eb2a6706ca49f1b\n",
            "Successfully built transformers\n",
            "Installing collected packages: transformers\n",
            "  Attempting uninstall: transformers\n",
            "    Found existing installation: transformers 4.46.2\n",
            "    Uninstalling transformers-4.46.2:\n",
            "      Successfully uninstalled transformers-4.46.2\n",
            "Successfully installed transformers-4.47.0.dev0\n"
          ]
        },
        {
          "output_type": "display_data",
          "data": {
            "application/vnd.colab-display-data+json": {
              "pip_warning": {
                "packages": [
                  "transformers"
                ]
              },
              "id": "e01e8e2398854bffa8dd1217eb7b4cbf"
            }
          },
          "metadata": {}
        }
      ]
    },
    {
      "cell_type": "code",
      "source": [],
      "metadata": {
        "id": "UYToYtScoUes"
      },
      "execution_count": null,
      "outputs": []
    }
  ]
}